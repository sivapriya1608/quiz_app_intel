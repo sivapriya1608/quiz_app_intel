{
 "cells": [
  {
   "cell_type": "code",
   "execution_count": 1,
   "id": "6528c85c-d1b8-4bee-ac93-21949e6aa216",
   "metadata": {},
   "outputs": [],
   "source": [
    "from datasets import load_dataset\n",
    "\n",
    "billsum = load_dataset(\"billsum\", split=\"ca_test\")"
   ]
  },
  {
   "cell_type": "code",
   "execution_count": 2,
   "id": "a06b4cbf-f0e9-4dda-b5e2-d345c27d0175",
   "metadata": {},
   "outputs": [],
   "source": [
    "billsum = billsum.train_test_split(test_size=0.2)"
   ]
  },
  {
   "cell_type": "code",
   "execution_count": 3,
   "id": "91542e21-e6b3-48b1-87ec-672a68132f53",
   "metadata": {},
   "outputs": [
    {
     "data": {
      "text/plain": [
       "{'text': 'The people of the State of California do enact as follows:\\n\\n\\nSECTION 1.\\nSection 8332 of the Government Code is amended to read:\\n8332.\\nIt is the intent of the Legislature that this chapter does not apply to the Reporting of Improper Governmental Activities Act (Article 3 (commencing with Section 8547) of Chapter 6.5) or the procedures established to investigate civilians’ complaints against peace officers as required by Section 832.5 of the Penal Code.\\nSEC. 2.\\nSection 148.6 of the Penal Code is amended to read:\\n148.6.\\n(a) (1) Every person who files any allegation of misconduct against any peace officer, as defined in Chapter 4.5 (commencing with Section 830) of Title 3 of Part 2, knowing the allegation to be false, is guilty of a misdemeanor.\\n(2) A law enforcement agency accepting an allegation of misconduct against a peace officer shall require the complainant to read and sign the following advisory, all in boldface type:\\nYOU HAVE THE RIGHT TO MAKE A COMPLAINT AGAINST A POLICE OFFICER FOR ANY IMPROPER POLICE CONDUCT. CALIFORNIA LAW REQUIRES THIS AGENCY TO HAVE A PROCEDURE TO INVESTIGATE CIVILIANS’ COMPLAINTS. YOU HAVE A RIGHT TO A WRITTEN DESCRIPTION OF THIS PROCEDURE. THIS AGENCY MAY FIND AFTER INVESTIGATION THAT THERE IS NOT ENOUGH EVIDENCE TO WARRANT ACTION ON YOUR COMPLAINT; EVEN IF THAT IS THE CASE, YOU HAVE THE RIGHT TO MAKE THE COMPLAINT AND HAVE IT INVESTIGATED IF YOU BELIEVE AN OFFICER BEHAVED IMPROPERLY. CIVILIAN COMPLAINTS AND ANY REPORTS OR FINDINGS RELATING TO COMPLAINTS MUST BE RETAINED BY THIS AGENCY FOR AT LEAST FIVE YEARS.\\nIT IS AGAINST THE LAW TO MAKE A COMPLAINT THAT YOU KNOW TO BE FALSE. IF YOU MAKE A COMPLAINT AGAINST AN OFFICER KNOWING THAT IT IS FALSE, YOU CAN BE PROSECUTED ON A MISDEMEANOR CHARGE.\\n\\nI have read and understood the above statement.\\nComplainant _____\\n(3) The advisory shall be available in multiple languages.\\n(b) Every person who files a civil claim against a peace officer or a lien against his or her property, knowing the claim or lien to be false and with the intent to harass or dissuade the officer from carrying out his or her official duties, is guilty of a misdemeanor. This section applies only to claims pertaining to actions that arise in the course and scope of the peace officer’s duties.\\nSEC. 3.\\nSection 832.18 of the Penal Code is amended to read:\\n832.18.\\n(a) It is the intent of the Legislature to establish policies and procedures to address issues related to the downloading and storage data recorded by a body-worn camera worn by a peace officer. These policies and procedures shall be based on best practices.\\n(b) When establishing policies and procedures for the implementation and operation of a body-worn camera system, law enforcement agencies, departments, or entities shall consider the following best practices regarding the downloading and storage of body-worn camera data:\\n(1) Designate the person responsible for downloading the recorded data from the body-worn camera. If the storage system does not have automatic downloading capability, the officer’s supervisor should take immediate physical custody of the camera and should be responsible for downloading the data in the case of an incident involving the use of force by an officer, an officer-involved shooting, or other serious incident.\\n(2) Establish when data should be downloaded to ensure the data is entered into the system in a timely manner, the cameras are properly maintained and ready for the next use, and for purposes of tagging and categorizing the data.\\n(3) Establish specific measures to prevent data tampering, deleting, and copying, including prohibiting the unauthorized use, duplication, or distribution of body-worn camera data.\\n(4) Categorize and tag body-worn camera video at the time the data is downloaded and classified according to the type of event or incident captured in the data.\\n(5) Specifically state the length of time that recorded data is to be stored.\\n(A) Unless subparagraph (B) or (C) applies, nonevidentiary data including video and audio recorded by a body-worn camera should be retained for a minimum of 60 days, after which it may be erased, destroyed, or recycled. An agency may keep data for more than 60 days to have it available in case of a civilian complaint and to preserve transparency.\\n(B)  Evidentiary data including video and audio recorded by a body-worn camera under this section should be retained for a minimum of two years under any of the following circumstances:\\n(i) The recording is of an incident involving the use of force by a peace officer or an officer-involved shooting.\\n(ii) The recording is of an incident that leads to the detention or arrest of an individual.\\n(iii) The recording is relevant to a formal or informal complaint against a law enforcement officer or a law enforcement agency.\\n(C) If evidence that may be relevant to a criminal prosecution is obtained from a recording made by a body-worn camera under this section, the law enforcement agency should retain the recording for any time in addition to that specified in paragraphs (A) and (B), and in the same manner as is required by law for other evidence that may be relevant to a criminal prosecution.\\n(D) In determining a retention schedule, the agency should work with its legal counsel to determine a retention schedule to ensure that storage policies and practices are in compliance with all relevant laws and adequately preserve evidentiary chains of custody.\\n(E) Records or logs of access and deletion of data from body-worn cameras should be retained permanently.\\n(6) State where the body-worn camera data will be stored, including, for example, an in-house server which is managed internally, or an online cloud database which is managed by a third-party vendor.\\n(7) If using a third-party vendor to manage the data storage system, the following factors should be considered to protect the security and integrity of the data:\\n(A) Using an experienced and reputable third-party vendor.\\n(B) Entering into contracts that govern the vendor relationship and protect the agency’s data.\\n(C) Using a system that has a built-in audit trail to prevent data tampering and unauthorized access.\\n(D) Using a system that has a reliable method for automatically backing up data for storage.\\n(E) Consulting with internal legal counsel to ensure the method of data storage meets legal requirements for chain-of-custody concerns.\\n(F) Using a system that includes technical assistance capabilities.\\n(8) Require that all recorded data from body-worn cameras are property of their respective law enforcement agency and shall not be accessed or released for any unauthorized purpose, explicitly prohibit agency personnel from accessing recorded data for personal use and from uploading recorded data onto public and social media Internet Web sites, and include sanctions for violations of this prohibition.\\n(c) (1) For purposes of this section, “evidentiary data” refers to data of an incident or encounter that could prove useful for investigative purposes, including, but not limited to, a crime, an arrest or citation, a search, a use of force incident, or a confrontational encounter with a member of the public. The retention period for evidentiary data are subject to state evidentiary laws.\\n(2) For purposes of this section, “nonevidentiary data” refers to data that does not necessarily have value to aid in an investigation or prosecution, such as data of an incident or encounter that does not lead to an arrest or citation, or data of general activities the officer might perform while on duty.\\n(d) Nothing in this section shall be interpreted to limit the public’s right to access recorded data under the California Public Records Act (Chapter 3.5 (commencing with Section 6250) of Division 7 of Title 1 of the Government Code).\\nSEC. 4.\\nSection 13010.5 of the Penal Code is amended to read:\\n13010.5.\\nThe department shall collect data pertaining to the juvenile justice system for criminal history and statistical purposes. This information shall serve to assist the department in complying with the reporting requirement of paragraphs (3) and (4) of subdivision (a) of Section 13012, measuring the extent of juvenile delinquency, determining the need for and effectiveness of relevant legislation, and identifying long-term trends in juvenile delinquency. Any data collected pursuant to this section may include criminal history information which may be used by the department to comply with the requirements of Section 602.5 of the Welfare and Institutions Code.\\nSEC. 5.\\nSection 13012 of the Penal Code is amended to read:\\n13012.\\n(a) The annual report of the department provided for in Section 13010 shall contain statistics showing all of the following:\\n(1) The amount and the types of offenses known to the public authorities.\\n(2) The personal and social characteristics of criminals and delinquents.\\n(3) The administrative actions taken by law enforcement, judicial, penal, and correctional agencies or institutions, including those in the juvenile justice system, in dealing with criminals or delinquents.\\n(4) The administrative actions taken by law enforcement, prosecutorial, judicial, penal, and correctional agencies, including those in the juvenile justice system, in dealing with minors who are the subject of a petition or hearing in the juvenile court to transfer their case to the jurisdiction of an adult criminal court or whose cases are directly filed or otherwise initiated in an adult criminal court.\\n(5) (A) The total number of each of the following:\\n(i) Civilian complaints received by law enforcement agencies under Section 832.5.\\n(ii) Civilian complaints alleging criminal conduct of either a felony or misdemeanor.\\n(iii) Civilian complaints alleging racial or identity profiling, as defined in subdivision (e) of Section 13519.4. These statistics shall be disaggregated by the specific type of racial or identity profiling alleged, such as based on a consideration of race, color, ethnicity, national origin, religion, gender identity or expression, sexual orientation, or mental or physical disability.\\n(B) The statistics reported under this paragraph shall provide, for each category of complaint identified under subparagraph (A), the number of complaints within each of the following disposition categories:\\n(i) “Sustained,” which means that the investigation disclosed sufficient evidence to prove the truth of allegation in the complaint by preponderance of evidence.\\n(ii) “Exonerated,” which means that the investigation clearly established that the actions of the personnel that formed the basis of the complaint are not a violation of law or agency policy.\\n(iii) “Not sustained,” which means that the investigation failed to disclose sufficient evidence to clearly prove or disprove the allegation in the complaint.\\n(iv) “Unfounded,” which means that the investigation clearly established that the allegation is not true.\\n(C) The reports under subparagraphs (A) and (B) shall be made available to the public and disaggregated for each individual law enforcement agency.\\n(b) It shall be the duty of the department to give adequate interpretation of the statistics and so to present the information that it may be of value in guiding the policies of the Legislature and of those in charge of the apprehension, prosecution, and treatment of the criminals and delinquents, or concerned with the prevention of crime and delinquency. The report shall also include statistics which are comparable with national uniform criminal statistics published by federal bureaus or departments heretofore mentioned.\\n(c) Each year, on an annual basis, the Racial and Identity Profiling Board (RIPA), established pursuant to paragraph (1) of subdivision (j) of Section 13519.4, shall analyze the statistics reported pursuant to subparagraphs (A) and (B) of paragraph (5) of subdivision (a) of this section. RIPA’s analysis of the complaints shall be incorporated into its annual report as required by paragraph (3) of subdivision (j) of Section 13519.4. The reports shall not disclose the identity of peace officers.\\nSEC. 6.\\nSection 13012.5 of the Penal Code is amended to read:\\n13012.5.\\n(a) The annual report published by the department under Section 13010 shall, in regard to the contents required by paragraph (4) of subdivision (a) of Section 13012, include the following statewide information:\\n(1) The annual number of fitness hearings held in the juvenile courts under Section 707 of the Welfare and Institutions Code, and the outcomes of those hearings including orders to remand to adult criminal court, cross-referenced with information about the age, gender, ethnicity, and offense of the minors whose cases are the subject of those fitness hearings.\\n(2) The annual number of minors whose cases are filed directly in adult criminal court under Sections 602.5 and 707 of the Welfare and Institutions Code, cross-referenced with information about the age, gender, ethnicity, and offense of the minors whose cases are filed directly to the adult criminal court.\\n(3) The outcomes of cases involving minors who are prosecuted in adult criminal courts, regardless of how adult court jurisdiction was initiated, including whether the minor was acquitted or convicted, or whether the case was dismissed and returned to juvenile court, including sentencing outcomes, cross-referenced with the age, gender, ethnicity, and offense of the minors subject to these court actions.\\n(b) The department’s annual report published under Section 13010 shall include the information described in paragraph (4) of subdivision (a) of Section 13012, as further delineated by this section, beginning with the report due on July 1, 2003, for the preceding calendar year.\\nSEC. 7.\\nSection 41603 of the Vehicle Code is amended to read:\\n41603.\\nNo state or local agency employing peace officers or parking enforcement employees engaged in the enforcement of this code shall use the number of arrests or citations issued by a peace officer or parking enforcement employees as the sole criterion for promotion, demotion, dismissal, or the earning of any benefit provided by the agency. Those arrests or citations, and their ultimate dispositions, may only be considered in evaluating the overall performance of a peace officer or parking enforcement employees. An evaluation may include, but shall not be limited to, criteria such as attendance, punctuality, work safety, complaints by civilians, commendations, demeanor, formal training, and professional judgment.',\n",
       " 'summary': 'Existing law requires each department or agency in this state that employs peace officers to establish a procedure to investigate complaints by members of the public against the personnel of these departments or agencies, and to make a written description of the procedure available to the public. Existing law also refers to these complaints as citizens’ complaints. Existing law sets forth specified policies and procedures relating to citizens’ complaints. Among other things, existing law makes it a misdemeanor to file an allegation of misconduct against a peace officer knowing the allegation to be false. Existing law requires a law enforcement agency accepting an allegation of misconduct against a peace officer to require the complainant to read and sign a specified advisory that describes, generally, the law and procedure governing citizens’ complaints. Existing law also requires the Department of Justice to prepare and present to the Governor, on or before July 1, an annual report containing the criminal statistics of the preceding calendar year, including, among other statistics, the total number of citizen complaints alleging racial or identity profiling, as specified.\\nThis bill would delete references to citizens’ complaints and instead refer to civilians’ complaints.',\n",
       " 'title': 'An act to amend Section 8332 of the Government Code, to amend Sections 148.6, 832.18, 13010.5, 13012, and 13012.5 of the Penal Code, and to amend Section 41603 of the Vehicle Code, relating to public safety.'}"
      ]
     },
     "execution_count": 3,
     "metadata": {},
     "output_type": "execute_result"
    }
   ],
   "source": [
    "billsum[\"train\"][0]"
   ]
  },
  {
   "cell_type": "code",
   "execution_count": 4,
   "id": "2c4b8a0d-85cd-4d22-9ae1-55e4ce4131f9",
   "metadata": {},
   "outputs": [],
   "source": [
    "from transformers import AutoTokenizer\n",
    "\n",
    "checkpoint = \"google-t5/t5-small\"\n",
    "tokenizer = AutoTokenizer.from_pretrained(checkpoint)"
   ]
  },
  {
   "cell_type": "code",
   "execution_count": 5,
   "id": "3734c2d1-e413-452f-bd91-212fb18f04c2",
   "metadata": {},
   "outputs": [],
   "source": [
    "prefix = \"summarize: \"\n",
    "\n",
    "\n",
    "def preprocess_function(examples):\n",
    "    inputs = [prefix + doc for doc in examples[\"text\"]]\n",
    "    model_inputs = tokenizer(inputs, max_length=1024, truncation=True)\n",
    "\n",
    "    labels = tokenizer(text_target=examples[\"summary\"], max_length=128, truncation=True)\n",
    "\n",
    "    model_inputs[\"labels\"] = labels[\"input_ids\"]\n",
    "    return model_inputs"
   ]
  },
  {
   "cell_type": "code",
   "execution_count": 6,
   "id": "33e9f8ff-80e0-457b-84dc-2382a94d2488",
   "metadata": {},
   "outputs": [
    {
     "data": {
      "application/vnd.jupyter.widget-view+json": {
       "model_id": "dc92836c8b2441df93bce7dffd09878a",
       "version_major": 2,
       "version_minor": 0
      },
      "text/plain": [
       "Map:   0%|          | 0/989 [00:00<?, ? examples/s]"
      ]
     },
     "metadata": {},
     "output_type": "display_data"
    },
    {
     "data": {
      "application/vnd.jupyter.widget-view+json": {
       "model_id": "4afa292339694f94b98e1326f6abbc96",
       "version_major": 2,
       "version_minor": 0
      },
      "text/plain": [
       "Map:   0%|          | 0/248 [00:00<?, ? examples/s]"
      ]
     },
     "metadata": {},
     "output_type": "display_data"
    }
   ],
   "source": [
    "tokenized_billsum = billsum.map(preprocess_function, batched=True)"
   ]
  },
  {
   "cell_type": "code",
   "execution_count": 7,
   "id": "6d969d21-900b-4ee6-863c-3b1f727bac5b",
   "metadata": {},
   "outputs": [
    {
     "name": "stderr",
     "output_type": "stream",
     "text": [
      "huggingface/tokenizers: The current process just got forked, after parallelism has already been used. Disabling parallelism to avoid deadlocks...\n",
      "To disable this warning, you can either:\n",
      "\t- Avoid using `tokenizers` before the fork if possible\n",
      "\t- Explicitly set the environment variable TOKENIZERS_PARALLELISM=(true | false)\n",
      "2024-04-04 23:19:43.438072: I tensorflow/core/util/port.cc:110] oneDNN custom operations are on. You may see slightly different numerical results due to floating-point round-off errors from different computation orders. To turn them off, set the environment variable `TF_ENABLE_ONEDNN_OPTS=0`.\n",
      "2024-04-04 23:19:43.440249: I tensorflow/tsl/cuda/cudart_stub.cc:28] Could not find cuda drivers on your machine, GPU will not be used.\n",
      "2024-04-04 23:19:43.484606: I tensorflow/core/platform/cpu_feature_guard.cc:182] This TensorFlow binary is optimized to use available CPU instructions in performance-critical operations.\n",
      "To enable the following instructions: AVX2 AVX512F AVX512_VNNI AVX512_BF16 AVX_VNNI AMX_TILE AMX_INT8 AMX_BF16 FMA, in other operations, rebuild TensorFlow with the appropriate compiler flags.\n",
      "2024-04-04 23:19:45.512137: W tensorflow/compiler/tf2tensorrt/utils/py_utils.cc:38] TF-TRT Warning: Could not find TensorRT\n"
     ]
    }
   ],
   "source": [
    "from transformers import DataCollatorForSeq2Seq\n",
    "\n",
    "data_collator = DataCollatorForSeq2Seq(tokenizer=tokenizer, model=checkpoint)"
   ]
  },
  {
   "cell_type": "code",
   "execution_count": 8,
   "id": "5ac176bf-a6d2-4551-a242-832105983e97",
   "metadata": {},
   "outputs": [],
   "source": [
    "import evaluate\n",
    "\n",
    "rouge = evaluate.load(\"rouge\")"
   ]
  },
  {
   "cell_type": "code",
   "execution_count": 9,
   "id": "1fbb6641-c3b9-4790-8f06-71e0fb167a58",
   "metadata": {},
   "outputs": [],
   "source": [
    "import numpy as np\n",
    "\n",
    "\n",
    "def compute_metrics(eval_pred):\n",
    "    predictions, labels = eval_pred\n",
    "    decoded_preds = tokenizer.batch_decode(predictions, skip_special_tokens=True)\n",
    "    labels = np.where(labels != -100, labels, tokenizer.pad_token_id)\n",
    "    decoded_labels = tokenizer.batch_decode(labels, skip_special_tokens=True)\n",
    "\n",
    "    result = rouge.compute(predictions=decoded_preds, references=decoded_labels, use_stemmer=True)\n",
    "\n",
    "    prediction_lens = [np.count_nonzero(pred != tokenizer.pad_token_id) for pred in predictions]\n",
    "    result[\"gen_len\"] = np.mean(prediction_lens)\n",
    "\n",
    "    return {k: round(v, 4) for k, v in result.items()}"
   ]
  },
  {
   "cell_type": "code",
   "execution_count": 10,
   "id": "355a51a1-080d-4abc-b8a1-88449a84196c",
   "metadata": {},
   "outputs": [],
   "source": [
    "from transformers import AutoModelForSeq2SeqLM, Seq2SeqTrainingArguments, Seq2SeqTrainer\n",
    "\n",
    "model = AutoModelForSeq2SeqLM.from_pretrained(checkpoint)"
   ]
  },
  {
   "cell_type": "code",
   "execution_count": 11,
   "id": "f44b67b4-49a3-4039-ad5a-f6678bde675e",
   "metadata": {},
   "outputs": [
    {
     "name": "stderr",
     "output_type": "stream",
     "text": [
      "/home/u0d5d54929dc368d83ffdd3d0dcbf4bf/.local/lib/python3.9/site-packages/torchvision/io/image.py:13: UserWarning: Failed to load image Python extension: ''If you don't plan on using image functionality from `torchvision.io`, you can ignore this warning. Otherwise, there might be something wrong with your environment. Did you have `libjpeg` or `libpng` installed before building `torchvision` from source?\n",
      "  warn(\n",
      "huggingface/tokenizers: The current process just got forked, after parallelism has already been used. Disabling parallelism to avoid deadlocks...\n",
      "To disable this warning, you can either:\n",
      "\t- Avoid using `tokenizers` before the fork if possible\n",
      "\t- Explicitly set the environment variable TOKENIZERS_PARALLELISM=(true | false)\n",
      "huggingface/tokenizers: The current process just got forked, after parallelism has already been used. Disabling parallelism to avoid deadlocks...\n",
      "To disable this warning, you can either:\n",
      "\t- Avoid using `tokenizers` before the fork if possible\n",
      "\t- Explicitly set the environment variable TOKENIZERS_PARALLELISM=(true | false)\n"
     ]
    }
   ],
   "source": [
    "import intel_extension_for_pytorch as ipex"
   ]
  },
  {
   "cell_type": "code",
   "execution_count": 15,
   "id": "2331754c-1ca5-4b5c-8f18-d5f7c1ef5b3b",
   "metadata": {},
   "outputs": [
    {
     "data": {
      "text/html": [
       "\n",
       "    <div>\n",
       "      \n",
       "      <progress value='62' max='62' style='width:300px; height:20px; vertical-align: middle;'></progress>\n",
       "      [62/62 08:39, Epoch 1/1]\n",
       "    </div>\n",
       "    <table border=\"1\" class=\"dataframe\">\n",
       "  <thead>\n",
       " <tr style=\"text-align: left;\">\n",
       "      <th>Epoch</th>\n",
       "      <th>Training Loss</th>\n",
       "      <th>Validation Loss</th>\n",
       "      <th>Rouge1</th>\n",
       "      <th>Rouge2</th>\n",
       "      <th>Rougel</th>\n",
       "      <th>Rougelsum</th>\n",
       "      <th>Gen Len</th>\n",
       "    </tr>\n",
       "  </thead>\n",
       "  <tbody>\n",
       "    <tr>\n",
       "      <td>1</td>\n",
       "      <td>No log</td>\n",
       "      <td>3.064787</td>\n",
       "      <td>0.125200</td>\n",
       "      <td>0.033200</td>\n",
       "      <td>0.104700</td>\n",
       "      <td>0.104600</td>\n",
       "      <td>19.000000</td>\n",
       "    </tr>\n",
       "  </tbody>\n",
       "</table><p>"
      ],
      "text/plain": [
       "<IPython.core.display.HTML object>"
      ]
     },
     "metadata": {},
     "output_type": "display_data"
    },
    {
     "name": "stderr",
     "output_type": "stream",
     "text": [
      "/home/u0d5d54929dc368d83ffdd3d0dcbf4bf/.local/lib/python3.9/site-packages/intel_extension_for_pytorch/frontend.py:469: UserWarning: Linear BatchNorm folding failed during the optimize process.\n",
      "  warnings.warn(\n",
      "/home/u0d5d54929dc368d83ffdd3d0dcbf4bf/.local/lib/python3.9/site-packages/transformers/generation/utils.py:1132: UserWarning: Using the model-agnostic default `max_length` (=20) to control the generation length. We recommend setting `max_new_tokens` to control the maximum length of the generation.\n",
      "  warnings.warn(\n",
      "2024-04-04 23:30:30,115 - absl - INFO - Using default tokenizer.\n"
     ]
    },
    {
     "data": {
      "text/plain": [
       "TrainOutput(global_step=62, training_loss=3.6800064579133065, metrics={'train_runtime': 527.6207, 'train_samples_per_second': 1.874, 'train_steps_per_second': 0.118, 'total_flos': 267706083311616.0, 'train_loss': 3.6800064579133065, 'epoch': 1.0})"
      ]
     },
     "execution_count": 15,
     "metadata": {},
     "output_type": "execute_result"
    }
   ],
   "source": [
    "# Define training arguments\n",
    "training_args = Seq2SeqTrainingArguments(\n",
    "    output_dir=\"finetune_model\",\n",
    "    evaluation_strategy=\"epoch\",\n",
    "    learning_rate=2e-5,\n",
    "    per_device_train_batch_size=16,\n",
    "    per_device_eval_batch_size=16,\n",
    "    weight_decay=0.01,\n",
    "    save_total_limit=3,\n",
    "    num_train_epochs=1,\n",
    "    predict_with_generate=True,\n",
    "    use_ipex=True,\n",
    "    \n",
    ")\n",
    "\n",
    "# Initialize trainer\n",
    "trainer = Seq2SeqTrainer(\n",
    "    model=model,\n",
    "    args=training_args,\n",
    "    train_dataset=tokenized_billsum[\"train\"],\n",
    "    eval_dataset=tokenized_billsum[\"test\"],\n",
    "    tokenizer=tokenizer,\n",
    "    data_collator=data_collator,\n",
    "    compute_metrics=compute_metrics,\n",
    ")\n",
    "\n",
    "# Start training\n",
    "trainer.train()\n"
   ]
  },
  {
   "cell_type": "code",
   "execution_count": 16,
   "id": "f76b0755-0508-470c-96fc-b232aa780937",
   "metadata": {},
   "outputs": [],
   "source": [
    "text = \"summarize: The Inflation Reduction Act lowers prescription drug costs, health care costs, and energy costs. It's the most aggressive action on tackling the climate crisis in American history, which will lift up American workers and create good-paying, union jobs across the country. It'll lower the deficit and ask the ultra-wealthy and corporations to pay their fair share. And no one making under $400,000 per year will pay a penny more in taxes.\""
   ]
  },
  {
   "cell_type": "code",
   "execution_count": 18,
   "id": "e7aeada4-4726-4626-92ef-90dbad4bc158",
   "metadata": {},
   "outputs": [
    {
     "name": "stdout",
     "output_type": "stream",
     "text": [
      "The Inflation Reduction Act lowers prescription drug costs, health care costs, and energy costs. It's the most aggressive action on tackling the climate crisis in American history, which will lift up American workers and create good-paying, union jobs across the country. It will ask the ultra-wealthy and corporations to pay their fair share.\n"
     ]
    }
   ],
   "source": [
    "from transformers import AutoTokenizer, AutoModelForSeq2SeqLM\n",
    "from torch import no_grad\n",
    "\n",
    "# Load your fine-tuned model and tokenizer\n",
    "model_path = \"finetune_model\"  # Change this to your model's directory\n",
    "tokenizer = AutoTokenizer.from_pretrained(model_path)\n",
    "model = AutoModelForSeq2SeqLM.from_pretrained(model_path)\n",
    "\n",
    "def summarize(text):\n",
    "    # Encode the text input\n",
    "    inputs = tokenizer(text, return_tensors=\"pt\", max_length=512, truncation=True, padding=\"max_length\")\n",
    "\n",
    "    # Generate summary with your model\n",
    "    with no_grad():\n",
    "        summary_ids = model.generate(inputs['input_ids'], max_length=150, num_beams=4, early_stopping=True)\n",
    "\n",
    "    # Decode the generated ids to a text string\n",
    "    summary = tokenizer.decode(summary_ids[0], skip_special_tokens=True)\n",
    "    return summary\n",
    "\n",
    "# Example text\n",
    "text = \"summarize: The Inflation Reduction Act lowers prescription drug costs, health care costs, and energy costs. It's the most aggressive action on tackling the climate crisis in American history, which will lift up American workers and create good-paying, union jobs across the country. It'll lower the deficit and ask the ultra-wealthy and corporations to pay their fair share. And no one making under $400,000 per year will pay a penny more in taxes.\"\n",
    "# Get the summary\n",
    "summary = summarize(text)\n",
    "print(summary)\n"
   ]
  },
  {
   "cell_type": "code",
   "execution_count": 35,
   "id": "cde9c99c-cab5-4e9a-a2b0-b47b6a5e14b9",
   "metadata": {},
   "outputs": [
    {
     "name": "stdout",
     "output_type": "stream",
     "text": [
      "Inference time for FP32 took 0.655 seconds\n"
     ]
    }
   ],
   "source": [
    "from transformers import AutoTokenizer, AutoModelForSeq2SeqLM\n",
    "import torch\n",
    "import numpy as np\n",
    "import time\n",
    "\n",
    "model_checkpoint = \"finetune_model\"  # Change this to your model's directory\n",
    "tokenizer = AutoTokenizer.from_pretrained(model_checkpoint)\n",
    "model = AutoModelForSeq2SeqLM.from_pretrained(model_checkpoint)\n",
    "\n",
    "# Prepare your text\n",
    "text = \"summarize: The Inflation Reduction Act lowers prescription drug costs, health care costs, and energy costs. It's the most aggressive action on tackling the climate crisis in American history, which will lift up American workers and create good-paying, union jobs across the country. It'll lower the deficit and ask the ultra-wealthy and corporations to pay their fair share. And no one making under $400,000 per year will pay a penny more in taxes.\"\n",
    "inputs = tokenizer(text, return_tensors=\"pt\", max_length=512, truncation=True, padding=\"max_length\")\n",
    "\n",
    "# Ensure model is in evaluation mode\n",
    "model.eval()\n",
    "\n",
    "# Check if CUDA (GPU support) is available and use it, otherwise fall back to CPU\n",
    "\n",
    "model = model.to(\"cpu\")\n",
    "inputs = inputs.to(\"cpu\")\n",
    "\n",
    "num_times = 100\n",
    "warmup_rounds = 20\n",
    "\n",
    "latency_list = []\n",
    "for i in range(num_times):\n",
    "    time_start = time.time()\n",
    "    with torch.no_grad():\n",
    "        outputs = model.generate(inputs['input_ids'], max_length=150, num_beams=4, early_stopping=True)\n",
    "    if i >= warmup_rounds:\n",
    "        latency_list.append(time.time() - time_start)\n",
    "\n",
    "fp32_inference_time = np.mean(latency_list)\n",
    "print(f\"Inference time for FP32 took {fp32_inference_time:.3f} seconds\")\n"
   ]
  },
  {
   "cell_type": "code",
   "execution_count": 32,
   "id": "3d30fdfb-a2be-48cd-8c63-2bf13a4a6a32",
   "metadata": {},
   "outputs": [
    {
     "name": "stdout",
     "output_type": "stream",
     "text": [
      "Inference time for BF16 took 0.870 seconds\n"
     ]
    }
   ],
   "source": [
    "model.eval()\n",
    "\n",
    "model = model.to(\"cpu\")\n",
    "inputs = inputs.to(\"cpu\")\n",
    "\n",
    "import time\n",
    "num_times = 100\n",
    "warmup_rounds = 20\n",
    "\n",
    "model = ipex.optimize(model, dtype=torch.bfloat16)\n",
    "latency_list = []\n",
    "with torch.no_grad():\n",
    "    ########################### code changes ########################\n",
    "    with torch.cpu.amp.autocast(enabled=True, dtype=torch.bfloat16):\n",
    "    ########################### code changes ########################\n",
    "        for i in range(num_times):\n",
    "            time_start = time.time()\n",
    "            outputs = model.generate(inputs['input_ids'], max_length=150, num_beams=4, early_stopping=True)\n",
    "            if i >= warmup_rounds:\n",
    "                latency_list.append(time.time() - time_start)\n",
    "\n",
    "bf16_inference_time = np.mean(latency_list)\n",
    "print(\"Inference time for BF16 took %.3f seconds\" %(bf16_inference_time))"
   ]
  },
  {
   "cell_type": "code",
   "execution_count": 36,
   "id": "9171dfe3-daa8-4dba-bf78-60341c9b6317",
   "metadata": {},
   "outputs": [
    {
     "data": {
      "image/png": "[encoded data removed]",
      "text/plain": [
       "<Figure size 640x480 with 1 Axes>"
      ]
     },
     "metadata": {},
     "output_type": "display_data"
    }
   ],
   "source": [
    "import seaborn as sns\n",
    "import matplotlib.pyplot as plt\n",
    "\n",
    "# Data for the comparison\n",
    "data = {'Model Type': ['FP32', 'bfloat16'],\n",
    "        'Inference Time (seconds)': [fp32_inference_time, bf16_inference_time]}\n",
    "\n",
    "# Create a Seaborn bar plot to compare the inference times\n",
    "sns.set(style=\"whitegrid\")\n",
    "ax = sns.barplot(x='Model Type', y='Inference Time (seconds)', data=data)\n",
    "ax.set_title('Comparison of Inference Times (FP32 vs bfloat16)')\n",
    "plt.show()\n"
   ]
  },
  {
   "cell_type": "code",
   "execution_count": null,
   "id": "8a69e41d-8662-47f5-9a98-7bf2138c08d1",
   "metadata": {},
   "outputs": [],
   "source": []
  }
 ],
 "metadata": {
  "kernelspec": {
   "display_name": "pytorch-gpu",
   "language": "python",
   "name": "pytorch-gpu"
  },
  "language_info": {
   "codemirror_mode": {
    "name": "ipython",
    "version": 3
   },
   "file_extension": ".py",
   "mimetype": "text/x-python",
   "name": "python",
   "nbconvert_exporter": "python",
   "pygments_lexer": "ipython3",
   "version": "3.9.18"
  }
 },
 "nbformat": 4,
 "nbformat_minor": 5
}
