{
 "cells": [
  {
   "cell_type": "code",
   "execution_count": 1,
   "id": "5b4627a6-843b-40c1-9804-d3f412998fff",
   "metadata": {},
   "outputs": [],
   "source": [
    "from datasets import load_dataset\n",
    "\n",
    "dataset = load_dataset('squad')['train'].train_test_split(test_size=0.2)"
   ]
  },
  {
   "cell_type": "code",
   "execution_count": 2,
   "id": "4a937365-3120-4d73-a2b6-1fa162243c0a",
   "metadata": {},
   "outputs": [
    {
     "name": "stderr",
     "output_type": "stream",
     "text": [
      "/opt/intel/oneapi/intelpython/envs/pytorch-gpu/lib/python3.9/site-packages/torchvision/io/image.py:13: UserWarning: Failed to load image Python extension: ''If you don't plan on using image functionality from `torchvision.io`, you can ignore this warning. Otherwise, there might be something wrong with your environment. Did you have `libjpeg` or `libpng` installed before building `torchvision` from source?\n",
      "  warn(\n"
     ]
    }
   ],
   "source": [
    "import torch\n",
    "import intel_extension_for_pytorch as ipex"
   ]
  },
  {
   "cell_type": "code",
   "execution_count": 3,
   "id": "1a9f0263-b3f7-4d23-a525-6f7c5de61ea3",
   "metadata": {},
   "outputs": [
    {
     "data": {
      "text/plain": [
       "{'id': '56fa00e2f34c681400b0bf4b',\n",
       " 'title': 'Somalis',\n",
       " 'context': 'According to most scholars, the ancient Land of Punt and its inhabitants formed part of the ethnogenesis of the Somali people. The ancient Puntites were a nation of people that had close relations with Pharaonic Egypt during the times of Pharaoh Sahure and Queen Hatshepsut. The pyramidal structures, temples and ancient houses of dressed stone littered around Somalia are said to date from this period.',\n",
       " 'question': 'What ancient land was connected to the modern Somali people?',\n",
       " 'answers': {'text': ['Land of Punt'], 'answer_start': [40]}}"
      ]
     },
     "execution_count": 3,
     "metadata": {},
     "output_type": "execute_result"
    }
   ],
   "source": [
    "dataset[\"train\"][0]"
   ]
  },
  {
   "cell_type": "code",
   "execution_count": 4,
   "id": "a35376ad-fe39-4afd-b528-ed06aa058086",
   "metadata": {},
   "outputs": [],
   "source": [
    "from transformers import AutoTokenizer\n",
    "\n",
    "tokenizer = AutoTokenizer.from_pretrained(\"distilbert-base-cased-distilled-squad\")"
   ]
  },
  {
   "cell_type": "code",
   "execution_count": 23,
   "id": "9e3917cd-36a0-432a-95ec-f5b3440722a9",
   "metadata": {},
   "outputs": [],
   "source": [
    "def preprocess_function(examples):\n",
    "    questions = [q.strip() for q in examples[\"question\"]]\n",
    "    inputs = tokenizer(\n",
    "        questions,\n",
    "        examples[\"context\"],\n",
    "        max_length=384,\n",
    "        truncation=\"only_second\",\n",
    "        return_offsets_mapping=True,\n",
    "        padding=\"max_length\",\n",
    "    )\n",
    "\n",
    "    offset_mapping = inputs.pop(\"offset_mapping\")\n",
    "    answers = examples[\"answers\"]\n",
    "    start_positions = []\n",
    "    end_positions = []\n",
    "\n",
    "    for i, offset in enumerate(offset_mapping):\n",
    "        answer = answers[i]\n",
    "        start_char = answer[\"answer_start\"][0]\n",
    "        end_char = answer[\"answer_start\"][0] + len(answer[\"text\"][0])\n",
    "        sequence_ids = inputs.sequence_ids(i)\n",
    "\n",
    "        # Find the start and end of the context\n",
    "        idx = 0\n",
    "        while sequence_ids[idx] != 1:\n",
    "            idx += 1\n",
    "        context_start = idx\n",
    "        while sequence_ids[idx] == 1:\n",
    "            idx += 1\n",
    "        context_end = idx - 1\n",
    "\n",
    "        # If the answer is not fully inside the context, label it (0, 0)\n",
    "        if offset[context_start][0] > end_char or offset[context_end][1] < start_char:\n",
    "            start_positions.append(0)\n",
    "            end_positions.append(0)\n",
    "        else:\n",
    "            # Otherwise it's the start and end token positions\n",
    "            idx = context_start\n",
    "            while idx <= context_end and offset[idx][0] <= start_char:\n",
    "                idx += 1\n",
    "            start_positions.append(idx - 1)\n",
    "\n",
    "            idx = context_end\n",
    "            while idx >= context_start and offset[idx][1] >= end_char:\n",
    "                idx -= 1\n",
    "            end_positions.append(idx + 1)\n",
    "\n",
    "    inputs[\"start_positions\"] = start_positions\n",
    "    inputs[\"end_positions\"] = end_positions\n",
    "    return inputs"
   ]
  },
  {
   "cell_type": "code",
   "execution_count": 24,
   "id": "9a717a7c-7a94-4d37-b9de-39f78229ba77",
   "metadata": {},
   "outputs": [
    {
     "data": {
      "application/vnd.jupyter.widget-view+json": {
       "model_id": "df2fe40517f046c68313e4002ebb14bd",
       "version_major": 2,
       "version_minor": 0
      },
      "text/plain": [
       "Map:   0%|          | 0/70079 [00:00<?, ? examples/s]"
      ]
     },
     "metadata": {},
     "output_type": "display_data"
    },
    {
     "data": {
      "application/vnd.jupyter.widget-view+json": {
       "model_id": "5ae366c5ee1242baae0f50a4d2ac3658",
       "version_major": 2,
       "version_minor": 0
      },
      "text/plain": [
       "Map:   0%|          | 0/17520 [00:00<?, ? examples/s]"
      ]
     },
     "metadata": {},
     "output_type": "display_data"
    }
   ],
   "source": [
    "tokenized_dataset = dataset.map(preprocess_function, batched=True, remove_columns=dataset[\"train\"].column_names)"
   ]
  },
  {
   "cell_type": "code",
   "execution_count": 25,
   "id": "75b430f0-a275-4a24-8f71-009dc92b264e",
   "metadata": {},
   "outputs": [],
   "source": [
    "from transformers import DefaultDataCollator\n",
    "\n",
    "data_collator = DefaultDataCollator()"
   ]
  },
  {
   "cell_type": "code",
   "execution_count": 26,
   "id": "efc5e86e-34df-44af-b6b2-b5b369a17590",
   "metadata": {},
   "outputs": [],
   "source": [
    "from transformers import AutoModelForQuestionAnswering, TrainingArguments, Trainer\n",
    "\n",
    "model = AutoModelForQuestionAnswering.from_pretrained(\"distilbert-base-cased-distilled-squad\")"
   ]
  },
  {
   "cell_type": "code",
   "execution_count": 27,
   "id": "14224e0b-47f8-466b-93ca-027dd6345ec7",
   "metadata": {},
   "outputs": [],
   "source": [
    "import evaluate\n",
    "accuracy = evaluate.load(\"accuracy\")"
   ]
  },
  {
   "cell_type": "code",
   "execution_count": null,
   "id": "a4426f62-4f2c-45f7-aa7a-371f86b979a4",
   "metadata": {},
   "outputs": [
    {
     "data": {
      "text/html": [
       "\n",
       "    <div>\n",
       "      \n",
       "      <progress value='8761' max='8760' style='width:300px; height:20px; vertical-align: middle;'></progress>\n",
       "      [8760/8760 07:11, Epoch 2/2]\n",
       "    </div>\n",
       "    <table border=\"1\" class=\"dataframe\">\n",
       "  <thead>\n",
       " <tr style=\"text-align: left;\">\n",
       "      <th>Epoch</th>\n",
       "      <th>Training Loss</th>\n",
       "      <th>Validation Loss</th>\n",
       "    </tr>\n",
       "  </thead>\n",
       "  <tbody>\n",
       "    <tr>\n",
       "      <td>1</td>\n",
       "      <td>0.413200</td>\n",
       "      <td>0.573162</td>\n",
       "    </tr>\n",
       "    <tr>\n",
       "      <td>2</td>\n",
       "      <td>0.148900</td>\n",
       "      <td>0.776654</td>\n",
       "    </tr>\n",
       "  </tbody>\n",
       "</table><p>"
      ],
      "text/plain": [
       "<IPython.core.display.HTML object>"
      ]
     },
     "metadata": {},
     "output_type": "display_data"
    },
    {
     "name": "stderr",
     "output_type": "stream",
     "text": [
      "/opt/intel/oneapi/intelpython/envs/pytorch-gpu/lib/python3.9/site-packages/intel_extension_for_pytorch/frontend.py:618: UserWarning: Linear BatchNorm folding failed during the optimize process.\n",
      "  warnings.warn(\n"
     ]
    }
   ],
   "source": [
    "training_args = TrainingArguments(\n",
    "    output_dir=\"qa_finetune\",\n",
    "    learning_rate=2e-5,\n",
    "    per_device_train_batch_size=16,\n",
    "    per_device_eval_batch_size=16,\n",
    "    num_train_epochs=2,\n",
    "    weight_decay=0.01,\n",
    "    evaluation_strategy=\"epoch\",\n",
    "    save_strategy=\"epoch\",\n",
    "    load_best_model_at_end=True,\n",
    "    use_ipex=True,\n",
    "    fp16=True,\n",
    ")\n",
    "\n",
    "trainer = Trainer(\n",
    "    model=model,\n",
    "    args=training_args,\n",
    "    train_dataset=tokenized_dataset[\"train\"],\n",
    "    eval_dataset=tokenized_dataset[\"test\"],\n",
    "    tokenizer=tokenizer,\n",
    "    data_collator=data_collator,\n",
    "    \n",
    ")\n",
    "\n",
    "trainer.train()"
   ]
  },
  {
   "cell_type": "code",
   "execution_count": 33,
   "id": "4a6d3385-20d3-4f50-a4a7-c1bfe3f1518f",
   "metadata": {},
   "outputs": [],
   "source": [
    "import numpy as np\n",
    "from transformers import AutoModelForQuestionAnswering, AutoTokenizer\n",
    "import collections"
   ]
  },
  {
   "cell_type": "code",
   "execution_count": 36,
   "id": "ebc204d6-fc7f-4171-88d2-9f59bbf34758",
   "metadata": {},
   "outputs": [],
   "source": [
    "model_checkpoint = \"qa_finetune/checkpoint-4380\"\n",
    "question = \"How many programming languages does BLOOM support?\"\n",
    "context = \"BLOOM has 176 billion parameters and can generate text in 46 languages natural languages and 13 programming languages.\""
   ]
  },
  {
   "cell_type": "code",
   "execution_count": 37,
   "id": "c0bca41d-0091-4cc8-a3d9-9641501e002f",
   "metadata": {},
   "outputs": [
    {
     "name": "stdout",
     "output_type": "stream",
     "text": [
      "Inference time for FP32 took 0.005 seconds\n"
     ]
    }
   ],
   "source": [
    "model = AutoModelForQuestionAnswering.from_pretrained(model_checkpoint)\n",
    "tokenizer = AutoTokenizer.from_pretrained(model_checkpoint)\n",
    "\n",
    "inputs = tokenizer(question, context, return_tensors=\"pt\")\n",
    "\n",
    "model.eval()\n",
    "\n",
    "model = model.to(\"xpu\")\n",
    "inputs = inputs.to(\"xpu\")\n",
    "\n",
    "import time\n",
    "num_times = 100\n",
    "warmup_rounds = 20\n",
    "\n",
    "latency_list = []\n",
    "for i in range(num_times):\n",
    "    time_start = time.time()\n",
    "    outputs = model(**inputs)\n",
    "    if i >= warmup_rounds:\n",
    "        latency_list.append(time.time() - time_start)\n",
    "\n",
    "fp32_inference_time = np.mean(latency_list)\n",
    "print(\"Inference time for FP32 took %.3f seconds\" %(fp32_inference_time))"
   ]
  },
  {
   "cell_type": "code",
   "execution_count": 38,
   "id": "a9f7d1e6-801b-43a1-8868-d0c60cd1da73",
   "metadata": {},
   "outputs": [
    {
     "name": "stderr",
     "output_type": "stream",
     "text": [
      "/opt/intel/oneapi/intelpython/envs/pytorch-gpu/lib/python3.9/site-packages/intel_extension_for_pytorch/frontend.py:611: UserWarning: Conv BatchNorm folding failed during the optimize process.\n",
      "  warnings.warn(\n",
      "/opt/intel/oneapi/intelpython/envs/pytorch-gpu/lib/python3.9/site-packages/intel_extension_for_pytorch/frontend.py:618: UserWarning: Linear BatchNorm folding failed during the optimize process.\n",
      "  warnings.warn(\n"
     ]
    },
    {
     "name": "stdout",
     "output_type": "stream",
     "text": [
      "Inference time for BF16 took 0.004 seconds\n"
     ]
    }
   ],
   "source": [
    "model = AutoModelForQuestionAnswering.from_pretrained(model_checkpoint)\n",
    "tokenizer = AutoTokenizer.from_pretrained(model_checkpoint)\n",
    "\n",
    "inputs = tokenizer(question, context, return_tensors=\"pt\")\n",
    "\n",
    "model.eval()\n",
    "\n",
    "model = model.to(\"xpu\")\n",
    "inputs = inputs.to(\"xpu\")\n",
    "\n",
    "import time\n",
    "num_times = 100\n",
    "warmup_rounds = 20\n",
    "\n",
    "model = ipex.optimize(model, dtype=torch.bfloat16)\n",
    "latency_list = []\n",
    "with torch.no_grad():\n",
    "    ########################### code changes ########################\n",
    "    with torch.xpu.amp.autocast(enabled=True, dtype=torch.bfloat16):\n",
    "    ########################### code changes ########################\n",
    "        for i in range(num_times):\n",
    "            time_start = time.time()\n",
    "            outputs = model(**inputs)\n",
    "            if i >= warmup_rounds:\n",
    "                latency_list.append(time.time() - time_start)\n",
    "\n",
    "bf16_inference_time = np.mean(latency_list)\n",
    "print(\"Inference time for BF16 took %.3f seconds\" %(bf16_inference_time))"
   ]
  },
  {
   "cell_type": "code",
   "execution_count": 39,
   "id": "1fc6e0a6-c1fc-4108-816e-05bf8c80583e",
   "metadata": {},
   "outputs": [
    {
     "name": "stderr",
     "output_type": "stream",
     "text": [
      "/opt/intel/oneapi/intelpython/envs/pytorch-gpu/lib/python3.9/site-packages/transformers/modeling_utils.py:4193: FutureWarning: `_is_quantized_training_enabled` is going to be deprecated in transformers 4.39.0. Please use `model.hf_quantizer.is_trainable` instead\n",
      "  warnings.warn(\n",
      "/opt/intel/oneapi/intelpython/envs/pytorch-gpu/lib/python3.9/site-packages/transformers/models/distilbert/modeling_distilbert.py:246: TracerWarning: torch.tensor results are registered as constants in the trace. You can safely ignore this warning if you use this function to create tensors out of constant variables that would be the same every time you call this function. In any other case, this might cause the trace to be incorrect.\n",
      "  mask, torch.tensor(torch.finfo(scores.dtype).min)\n"
     ]
    },
    {
     "name": "stdout",
     "output_type": "stream",
     "text": [
      "Inference time for Torchscript took 0.003 seconds\n"
     ]
    }
   ],
   "source": [
    "model = AutoModelForQuestionAnswering.from_pretrained(model_checkpoint)\n",
    "tokenizer = AutoTokenizer.from_pretrained(model_checkpoint)\n",
    "vocab_size = model.config.vocab_size\n",
    "\n",
    "\n",
    "model.eval()\n",
    "\n",
    "model = model.to(\"xpu\")\n",
    "model = ipex.optimize(model, dtype=torch.float16)\n",
    "with torch.no_grad():\n",
    "    seq_length = 256\n",
    "    d= {\n",
    "        'input_ids': torch.randint(vocab_size, size=[1, seq_length]).to(\"xpu\"),\n",
    "        'attention_mask': torch.ones(1, seq_length, dtype=torch.int64).to(\"xpu\")   \n",
    "    }\n",
    "    \n",
    "    with torch.xpu.amp.autocast(enabled=True, dtype=torch.bfloat16):\n",
    "    ############################# code changes #####################\n",
    "        model = torch.jit.trace(model, (d['input_ids'],d['attention_mask'],), strict=False) #, check_trace=False\n",
    "        model = torch.jit.freeze(model)\n",
    "        traced_model_path = \"traced_model.pt\"\n",
    "        torch.jit.save(model, traced_model_path)\n",
    "\n",
    "    with torch.xpu.amp.autocast(enabled=True, dtype=torch.bfloat16):\n",
    "        inputs = tokenizer(question, context, return_tensors=\"pt\")\n",
    "        inputs = {\n",
    "            'input_ids': inputs['input_ids'].to(\"xpu\"),\n",
    "            'attention_mask': inputs['attention_mask'].to(\"xpu\")\n",
    "        }\n",
    "        latency_list = []\n",
    "        for i in range(num_times):\n",
    "            time_start = time.time()\n",
    "            outputs = model(**inputs)\n",
    "            if i >= warmup_rounds:\n",
    "                latency_list.append(time.time() - time_start)\n",
    "\n",
    "torchscript_inference_time = np.mean(latency_list)\n",
    "print(\"Inference time for Torchscript took %.3f seconds\" %(torchscript_inference_time))"
   ]
  },
  {
   "cell_type": "code",
   "execution_count": 40,
   "id": "0e8d6a61-0581-490d-af87-78f9b8cf0646",
   "metadata": {},
   "outputs": [],
   "source": [
    "\"\"\"\n",
    "Prints out results and displays figures summarizing output.\n",
    "\"\"\"\n",
    "\n",
    "def summarize_results(modelName=\"\", results=None):\n",
    "    \"\"\"\n",
    "    Input parameters\n",
    "        modelName: a str representing the name of the model\n",
    "        results: a dict with the run case and its corresponding time in seconds\n",
    "    Return value\n",
    "        None\n",
    "    \"\"\"\n",
    "\n",
    "    # Inference time results\n",
    "    print(\"\\nSummary for %s\" %(modelName))\n",
    "    for key in results.keys():\n",
    "        print(\"%s inference time: %.3f seconds\" %(key, results[key]))\n",
    "\n",
    "    # Create bar chart with inference time results\n",
    "    plt.figure()\n",
    "    plt.title(\"%s Inference Time\" %(modelName))\n",
    "    plt.xlabel(\"Run Case\")\n",
    "    plt.ylabel(\"Inference Time (seconds)\")\n",
    "    plt.bar(results.keys(), results.values())\n",
    "\n",
    "    # Calculate speedup when using AMX\n",
    "    print(\"\\n\")\n",
    "    bf16_speedup = results[\"FP32\"] / results[\"BF16\"]\n",
    "    print(\"BF16 with AMX is %.2fX faster than FP32\" %bf16_speedup)\n",
    "    torchscript_speedup = results[\"FP32\"] / results[\"TorchScript\"]\n",
    "    print(\"Torchscript is %.2fX faster than FP32\" %torchscript_speedup)\n",
    "    print(\"\\n\\n\")\n",
    "\n",
    "    # Create bar chart with speedup results\n",
    "    plt.figure()\n",
    "    plt.title(\"%s AMX BF16 Speedup over FP32\" %modelName)\n",
    "    plt.xlabel(\"Run Case\")\n",
    "    plt.ylabel(\"Speedup\")\n",
    "    plt.bar(results.keys(), \n",
    "        [1, bf16_speedup, torchscript_speedup]\n",
    "    )"
   ]
  },
  {
   "cell_type": "code",
   "execution_count": 41,
   "id": "3022fa82-dd01-4230-aa3f-335e5dea61e7",
   "metadata": {},
   "outputs": [
    {
     "name": "stderr",
     "output_type": "stream",
     "text": [
      "huggingface/tokenizers: The current process just got forked, after parallelism has already been used. Disabling parallelism to avoid deadlocks...\n",
      "To disable this warning, you can either:\n",
      "\t- Avoid using `tokenizers` before the fork if possible\n",
      "\t- Explicitly set the environment variable TOKENIZERS_PARALLELISM=(true | false)\n",
      "huggingface/tokenizers: The current process just got forked, after parallelism has already been used. Disabling parallelism to avoid deadlocks...\n",
      "To disable this warning, you can either:\n",
      "\t- Avoid using `tokenizers` before the fork if possible\n",
      "\t- Explicitly set the environment variable TOKENIZERS_PARALLELISM=(true | false)\n",
      "2024-03-24 01:04:44,278 - matplotlib.font_manager - INFO - generated new fontManager\n"
     ]
    },
    {
     "name": "stdout",
     "output_type": "stream",
     "text": [
      "\n",
      "Summary for QA\n",
      "FP32 inference time: 0.005 seconds\n",
      "BF16 inference time: 0.004 seconds\n",
      "TorchScript inference time: 0.003 seconds\n",
      "\n",
      "\n",
      "BF16 with AMX is 1.23X faster than FP32\n",
      "Torchscript is 1.87X faster than FP32\n",
      "\n",
      "\n",
      "\n"
     ]
    },
    {
     "data": {
      "image/png": "[encoded data removed]",
      "text/plain": [
       "<Figure size 640x480 with 1 Axes>"
      ]
     },
     "metadata": {},
     "output_type": "display_data"
    },
    {
     "data": {
      "image/png": "[encoded data removed]",
      "text/plain": [
       "<Figure size 640x480 with 1 Axes>"
      ]
     },
     "metadata": {},
     "output_type": "display_data"
    }
   ],
   "source": [
    "# Summarize and display results\n",
    "#!pip install matplotlib\n",
    "import matplotlib.pyplot as plt\n",
    "results_bert = {\n",
    "        \"FP32\": fp32_inference_time,\n",
    "        \"BF16\": bf16_inference_time,\n",
    "        \"TorchScript\": torchscript_inference_time\n",
    "    }\n",
    "summarize_results(\"QA\", results_bert)\n",
    "plt.show()"
   ]
  }
 ],
 "metadata": {
  "kernelspec": {
   "display_name": "pytorch-gpu",
   "language": "python",
   "name": "pytorch-gpu"
  },
  "language_info": {
   "codemirror_mode": {
    "name": "ipython",
    "version": 3
   },
   "file_extension": ".py",
   "mimetype": "text/x-python",
   "name": "python",
   "nbconvert_exporter": "python",
   "pygments_lexer": "ipython3",
   "version": "3.9.18"
  }
 },
 "nbformat": 4,
 "nbformat_minor": 5
}
